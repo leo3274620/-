{
 "cells": [
  {
   "cell_type": "code",
   "execution_count": 43,
   "id": "0b5fabcf-f79e-4675-8bf3-bbfe9320847e",
   "metadata": {},
   "outputs": [
    {
     "name": "stdout",
     "output_type": "stream",
     "text": [
      "1.1 \n",
      "x**11/11 (x, 0, N)\n"
     ]
    }
   ],
   "source": [
    "#1-1\n",
    "from sympy import *\n",
    "x = Symbol('x') \n",
    "N = Symbol('N')\n",
    "print(\"1.1 \")\n",
    "print(integrate(x**10),(x,0,N))"
   ]
  },
  {
   "cell_type": "code",
   "execution_count": 44,
   "id": "fbaf8fdc-1c5a-414d-b268-e804c85c21e9",
   "metadata": {},
   "outputs": [
    {
     "name": "stdout",
     "output_type": "stream",
     "text": [
      "1.02: \n"
     ]
    },
    {
     "data": {
      "text/latex": [
       "$\\displaystyle \\frac{N^{11}}{11} + \\frac{N^{10}}{2} + \\frac{5 N^{9}}{6} - N^{7} + N^{5} - \\frac{N^{3}}{2} + \\frac{5 N}{66}$"
      ],
      "text/plain": [
       "N**11/11 + N**10/2 + 5*N**9/6 - N**7 + N**5 - N**3/2 + 5*N/66"
      ]
     },
     "execution_count": 44,
     "metadata": {},
     "output_type": "execute_result"
    }
   ],
   "source": [
    "#1-2\n",
    "from sympy import *\n",
    "x = Symbol('x') \n",
    "N = Symbol('N')\n",
    "print(\"1.02: \")\n",
    "Sum(x**10,(x,0,N)).doit()"
   ]
  },
  {
   "cell_type": "code",
   "execution_count": 45,
   "id": "bf5ef4f7-ee64-485e-a46e-ec673ceea21b",
   "metadata": {},
   "outputs": [
    {
     "name": "stdout",
     "output_type": "stream",
     "text": [
      "1.03: \n"
     ]
    },
    {
     "data": {
      "text/latex": [
       "$\\displaystyle \\frac{N^{11}}{11} - \\frac{N^{10}}{2} + \\frac{5 N^{9}}{6} - N^{7} + N^{5} - \\frac{N^{3}}{2} + \\frac{5 N}{66} + 1$"
      ],
      "text/plain": [
       "N**11/11 - N**10/2 + 5*N**9/6 - N**7 + N**5 - N**3/2 + 5*N/66 + 1"
      ]
     },
     "execution_count": 45,
     "metadata": {},
     "output_type": "execute_result"
    }
   ],
   "source": [
    "#1-3\n",
    "from sympy import *\n",
    "x = Symbol('x') \n",
    "N = Symbol('N')\n",
    "print(\"1.03: \")\n",
    "Sum((x-1)**10,(x,0,N)).doit()"
   ]
  },
  {
   "cell_type": "code",
   "execution_count": 46,
   "id": "2a5b6b61-878f-4d37-9d94-44589ea6955f",
   "metadata": {},
   "outputs": [
    {
     "name": "stdout",
     "output_type": "stream",
     "text": [
      "1.04: \n",
      "(-x**10 - 10*x**9 - 90*x**8 - 720*x**7 - 5040*x**6 - 30240*x**5 - 151200*x**4 - 604800*x**3 - 1814400*x**2 - 3628800*x - 3628800)*exp(-x) (x, 0, oo)\n"
     ]
    }
   ],
   "source": [
    "#1-4\n",
    "from sympy import *\n",
    "x = Symbol('x') \n",
    "e = Symbol('e') \n",
    "print(\"1.04: \")\n",
    "print(integrate(x**10*exp(-x)),(x,0,oo))"
   ]
  },
  {
   "cell_type": "code",
   "execution_count": 47,
   "id": "64857a59-8e8f-4e0e-bf6c-237bb6bc1207",
   "metadata": {},
   "outputs": [
    {
     "name": "stdout",
     "output_type": "stream",
     "text": [
      "1.05: \n",
      "(2 - 2*x)*exp(-(x - 1)**2 - (y + 1)**2)\n",
      "(-2*y - 2)*exp(-(x - 1)**2 - (y + 1)**2)\n",
      "(2 - 2*x)*(-2*y - 2)*exp(-(x - 1)**2 - (y + 1)**2)\n",
      "1-6:  [(1, -1)]\n",
      "exp(-(x - 1)**2 - (y + 1)**2)\n"
     ]
    }
   ],
   "source": [
    "#1-5\n",
    "from sympy import *\n",
    "import matplotlib.pyplot as plt\n",
    "x = Symbol('x')\n",
    "y = Symbol('y')\n",
    "f = exp(-((x-1)**2+(y+1)**2))\n",
    "f1 = diff(f,x)\n",
    "f2 = diff(f,y)\n",
    "f3 = diff(f1,y)\n",
    "print(\"1.05: \")\n",
    "print(f1)\n",
    "print(f2)\n",
    "print(f3)\n",
    "#1-6\n",
    "print(\"1-6: \",solve((f1, f2), x, y))\n",
    "print(f)"
   ]
  },
  {
   "cell_type": "code",
   "execution_count": 42,
   "id": "0dd67f7d-b686-4a94-843b-60fac5a42560",
   "metadata": {},
   "outputs": [],
   "source": [
    "#1-7"
   ]
  },
  {
   "cell_type": "code",
   "execution_count": null,
   "id": "0888b892-fdd6-4689-9ffe-4d5eb9a0e5ca",
   "metadata": {},
   "outputs": [],
   "source": [
    "#1-8\n",
    "#1-9\n",
    "j為根號-1\n",
    "j平方為-1\n",
    "由拉恆等式:e**i*pi + 1 = 0\n",
    "移項: e**i*pi = -1 = j**2\n",
    "左右都j次放方: (e**j*pi)**j =  (j**2)**j\n",
    "整理後可得: e**-pi = (j**j)**2 \n",
    "左右同時開根號 :  j**j =  (1/e**pi)**1/2 = 0.278..."
   ]
  },
  {
   "cell_type": "code",
   "execution_count": 50,
   "id": "a6e44019-e6ec-4e82-9b25-d2116f1c3a2f",
   "metadata": {},
   "outputs": [
    {
     "name": "stdout",
     "output_type": "stream",
     "text": [
      "2.01: \n",
      "[[ 0.20833333 -0.04166667]\n",
      " [-0.04166667  0.20833333]]\n",
      "2.02: \n",
      "[[ 50  10]\n",
      " [ 20 100]]\n",
      "2.03: \n",
      "[[ 50  10]\n",
      " [ 20 100]]\n",
      "2.04: \n",
      "[[ 50  20]\n",
      " [ 10 100]]\n",
      "2.05: \n",
      "[6. 4.] [[ 0.70710678 -0.70710678]\n",
      " [ 0.70710678  0.70710678]]\n",
      "2.07: \n",
      "[[1.25]\n",
      " [3.75]]\n",
      "x=1.25,y=3.75代入 5x+y=10 左式等於右式\n",
      "x=1.25,y=3.75代入 x+5y=20 右式等於右式\n"
     ]
    }
   ],
   "source": [
    "#2-1 ~ 2-7\n",
    "import numpy as np\n",
    "A = np.array([[5,1],\n",
    "            [1,5]])\n",
    "b = np.array([[10],\n",
    "            [20]])\n",
    "print(\"2.01: \")\n",
    "print(np.linalg.inv(A)) \n",
    "print(\"2.02: \")\n",
    "print(A*b) #2-2\n",
    "print(\"2.03: \")\n",
    "print(b*A) #2-3\n",
    "print(\"2.04: \")\n",
    "print(np.transpose(b)*A) \n",
    "eigvalue, eigvector = np.linalg.eig(A) \n",
    "print(\"2.05: \")\n",
    "print(eigvalue,eigvector) \n",
    "print(\"2.07: \")\n",
    "print(np.linalg.solve(A, b)) \n",
    "print(\"x=1.25,y=3.75代入 5x+y=10 左式等於右式\")\n",
    "print(\"x=1.25,y=3.75代入 x+5y=20 右式等於右式\")"
   ]
  },
  {
   "cell_type": "code",
   "execution_count": null,
   "id": "c80fdd90-5956-4fa9-bb71-db5784bc8279",
   "metadata": {},
   "outputs": [],
   "source": []
  }
 ],
 "metadata": {
  "kernelspec": {
   "display_name": "Python 3",
   "language": "python",
   "name": "python3"
  },
  "language_info": {
   "codemirror_mode": {
    "name": "ipython",
    "version": 3
   },
   "file_extension": ".py",
   "mimetype": "text/x-python",
   "name": "python",
   "nbconvert_exporter": "python",
   "pygments_lexer": "ipython3",
   "version": "3.8.8"
  }
 },
 "nbformat": 4,
 "nbformat_minor": 5
}
